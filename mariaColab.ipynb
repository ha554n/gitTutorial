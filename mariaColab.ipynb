{
  "nbformat": 4,
  "nbformat_minor": 0,
  "metadata": {
    "colab": {
      "name": "mariaColab.ipynb",
      "provenance": [],
      "collapsed_sections": [],
      "toc_visible": true,
      "include_colab_link": true
    },
    "kernelspec": {
      "name": "python3",
      "display_name": "Python 3"
    }
  },
  "cells": [
    {
      "cell_type": "markdown",
      "metadata": {
        "id": "view-in-github",
        "colab_type": "text"
      },
      "source": [
        "<a href=\"https://colab.research.google.com/github/ha554n/gitTutorial/blob/master/mariaColab.ipynb\" target=\"_parent\"><img src=\"https://colab.research.google.com/assets/colab-badge.svg\" alt=\"Open In Colab\"/></a>"
      ]
    },
    {
      "cell_type": "markdown",
      "metadata": {
        "id": "Up8UjssMB5Jj",
        "colab_type": "text"
      },
      "source": [
        "# Imports & Helper Functions\n"
      ]
    },
    {
      "cell_type": "code",
      "metadata": {
        "id": "1RIq4SnlB43A",
        "colab_type": "code",
        "colab": {}
      },
      "source": [
        "import pandas as pd\n",
        "import numpy as np\n",
        "import matplotlib.pyplot as plt\n",
        "import re\n",
        "import os\n",
        "from math import pi\n",
        "from itertools import combinations_with_replacement\n",
        "import pickle\n",
        "from IPython.display import display\n",
        "# pd.set_option('display.max_rows', 500)\n",
        "# pd.options.display.max_colwidth=100\n",
        "from natsort import natsorted\n",
        "import seaborn as sns\n",
        "import scipy.stats as stats \n",
        "from collections import Counter\n",
        "from itertools import groupby\n",
        "from operator import itemgetter\n",
        "from itertools import combinations\n",
        "import time\n",
        "import math as math\n",
        "\n",
        "def atoi(text):\n",
        "  '''\n",
        "  returns int parts of strings\n",
        "  '''\n",
        "    return int(text) if text.isdigit() else text\n",
        "\n",
        "def natural_keys(text):\n",
        "    '''\n",
        "    alist.sort(key=natural_keys) sorts in human order\n",
        "    http://nedbatchelder.com/blog/200712/human_sorting.html\n",
        "    (See Toothy's implementation in the comments)\n",
        "    '''\n",
        "    return [ atoi(c) for c in re.split(r'(\\d+)', text) ]"
      ],
      "execution_count": 0,
      "outputs": []
    },
    {
      "cell_type": "markdown",
      "metadata": {
        "id": "W9G6y7XkCVpP",
        "colab_type": "text"
      },
      "source": [
        "Mount Google Drive\n"
      ]
    },
    {
      "cell_type": "code",
      "metadata": {
        "id": "3aJXsoPWIIHZ",
        "colab_type": "code",
        "colab": {}
      },
      "source": [
        "from google.colab import drive\n",
        "drive.mount('/content/drive')"
      ],
      "execution_count": 0,
      "outputs": []
    },
    {
      "cell_type": "markdown",
      "metadata": {
        "id": "dMgBL00eCxyw",
        "colab_type": "text"
      },
      "source": [
        ""
      ]
    },
    {
      "cell_type": "code",
      "metadata": {
        "id": "vlR80QhXCbN2",
        "colab_type": "code",
        "colab": {}
      },
      "source": [
        ""
      ],
      "execution_count": 0,
      "outputs": []
    }
  ]
}